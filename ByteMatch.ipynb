{
 "cells": [
  {
   "cell_type": "markdown",
   "metadata": {},
   "source": [
    "# Case Study - Byte Match\n",
    "\n",
    "- Background: In the heart of the digital age, the \"Daily Byte\" stands as one of\n",
    "the most renowned online news platforms. With a vast array of articles\n",
    "spanning various topics, readers are spoilt for choice. However, with such an\n",
    "abundance of information, many readers feel overwhelmed, often missing out\n",
    "on articles that might resonate with their interests.\n",
    "\n",
    "- Challenge: The editorial team, led by the visionary editor-in-chief, Ms.\n",
    "Penelope Wordsworth, has a challenge for the students. They've noticed a\n",
    "trend: readers who enjoy articles on specific topics tend to have a high\n",
    "likelihood of enjoying other articles with semantic similarities. With this\n",
    "observation, Ms. Wordsworth poses a question: \"Can we guide our readers to\n",
    "articles they'll love, based on what they've previously enjoyed?\"\n",
    "\n",
    "- Objective: You are tasked with creating ByteMatch, a recommendation\n",
    "system for the Daily Byte."
   ]
  },
  {
   "cell_type": "code",
   "execution_count": 1,
   "metadata": {},
   "outputs": [],
   "source": [
    "import spacy\n",
    "nlp = spacy.load('en_core_web_md')"
   ]
  },
  {
   "cell_type": "markdown",
   "metadata": {},
   "source": [
    "The selection of sample articles used in this demonstration are from CNN's 'Good News Generator 2023':\n",
    "https://edition.cnn.com/interactive/2023/12/specials/good-news-generator-dg-cec/"
   ]
  },
  {
   "cell_type": "code",
   "execution_count": 2,
   "metadata": {},
   "outputs": [],
   "source": [
    "news_articles = {\n",
    "    \"Ticklish Rats\" : \"Rats are ticklish, study says! Researchers played with and tickled rats in a study, identifying a part of the brain that's active both when the rodents are playing and when they're tickled.\",\n",
    "    \"Clever Elephants\" : \"An elephant learned how to peel a banana, which is more impressive than you think. An elephant's trunk is a remarkable organ: a fusion of nose and upper lip, capable of movement via a dense network of muscles. It's strong enough to lift a log, and sensitive enough to perform delicate tasks like picking up a single tortilla chip without breaking it.\",\n",
    "    \"ChatGPT Crochet\" : \"ChatGPT created crochet patterns, and the results were adorably baffling. ChatGPT, a publicly available language-learning AI, was not designed to create things like crochet or knitting patterns, but what happens when you ask it to do just that? We crocheted some ChatGPT-generated patterns to find out.\",\n",
    "    \"Sologamy\" : \"These cool ladies married the loves of their lives - themselves. The practice, called sologamy, sometimes involves lavish ceremonies complete with vows, cakes and bridesmaids. Critics call it narcissistic, but those who do it say it's a healthy expression of self-love.\",\n",
    "    \"Imaging Improvements\" : \"New technology could improve medical imaging on dark skin. Traditional medical imaging - used to diagnose, monitor or treat certain medical conditions - has long struggled to get clear pictures of patients with dark skin, according to experts.\",\n",
    "    \"Clothing Waste\" : \"France says it will pay for some wardrobe repairs to cut down on clothing waste. France is to introduce a scheme that will subsidize repairs to clothing and shoes in order to cut waste and planet-heating pollution from the textile industry.\",\n",
    "    \"Viral Novel\" : \"A daughter helped her father's decade-old thriller novel go viral on TikTok. Lloyd Devereux Richards first published “Stone Maidens” in 2012 and didn't garner much excitement. His daughter recently decided to post it on TikTok, helping it rocket to the top of Amazon's Best Seller list.\",\n",
    "    \"Dress Restoration\" : \"This woman restores gorgeous, historic wedding dresses. Karen Tierney, a California-based textiles expert, restores historical wedding dresses. Earlier this year, she put out a call to her clients who gathered for a special fundraiser, to show off more than 150 years of history, craftsmanship and love.\",\n",
    "    \"Penguin Surgery\" : \"A trio of elderly penguins got cataract surgery in a scientific first. Three elderly king penguins have been fitted with custom-made eye lenses during surgery to remove cataracts in what is believed to be a world first procedure to improve their sight, according to a Singapore zoo.\"\n",
    "}"
   ]
  },
  {
   "cell_type": "markdown",
   "metadata": {},
   "source": [
    "### Preprocessing function:"
   ]
  },
  {
   "cell_type": "code",
   "execution_count": 18,
   "metadata": {},
   "outputs": [],
   "source": [
    "def preprocess(text):\n",
    "    \"\"\"This function preprocesses a string by removing punctuation \n",
    "    and stop words, and lemmatizing the remaining words.\n",
    "    \n",
    "    Parameters\n",
    "    ----------\n",
    "    text : str\n",
    "        The text to be preprocessed.\n",
    "\n",
    "    Returns\n",
    "    -------\n",
    "    str\n",
    "        The preprocessed text.\"\"\"\n",
    "    doc = nlp(text)\n",
    "    return ' '.join([token.lemma_.lower() for token in doc if not token.is_stop and not token.is_punct])"
   ]
  },
  {
   "cell_type": "markdown",
   "metadata": {},
   "source": [
    "### Recommendation function:"
   ]
  },
  {
   "cell_type": "code",
   "execution_count": 19,
   "metadata": {},
   "outputs": [],
   "source": [
    "def recommendation(text, articles):\n",
    "    \"\"\"This function takes the text of the last article read\n",
    "    and a dictionary containing article titles and text, and\n",
    "    returns the title of the most similar article as a recommendation\n",
    "    to read next.\n",
    "\n",
    "    Parameters\n",
    "    ----------\n",
    "    text : str\n",
    "        The text of the last article read.\n",
    "    articles : dict[str, str]\n",
    "        A dictionary in the form {title : text}\n",
    "\n",
    "    Returns\n",
    "    -------\n",
    "    str\n",
    "        The title of the most similar article from the dictionary.\"\"\"\n",
    "    \n",
    "\n",
    "    # Converts the description to a doc object for comparison:\n",
    "    model_text = nlp(text)\n",
    "\n",
    "    # Creates a dictionary of movie names and similarity scores:\n",
    "    comparison = {}\n",
    "    for title, text in articles.items():\n",
    "        score = nlp(text).similarity(model_text)\n",
    "        \n",
    "        # Exclude identical article:\n",
    "        if score != 1.0:\n",
    "            comparison[title] = score\n",
    "    \n",
    "    # Obtains the movie with the maximum similarity score:\n",
    "    top_recommendation = max(comparison, key=comparison.get)\n",
    "    #print(comparison)\n",
    "\n",
    "    return top_recommendation"
   ]
  },
  {
   "cell_type": "markdown",
   "metadata": {},
   "source": [
    "#### Preprocessing the original articles:"
   ]
  },
  {
   "cell_type": "code",
   "execution_count": 20,
   "metadata": {},
   "outputs": [],
   "source": [
    "processed_articles = {}\n",
    "for key, value in news_articles.items():\n",
    "    processed_articles[key] = preprocess(value)"
   ]
  },
  {
   "cell_type": "markdown",
   "metadata": {},
   "source": [
    "#### Testing out the recommendations:"
   ]
  },
  {
   "cell_type": "code",
   "execution_count": 21,
   "metadata": {},
   "outputs": [],
   "source": [
    "# The text of the last article the user read:\n",
    "users_article = news_articles.get(\"Sologamy\")\n",
    "users_article_processed = preprocess(users_article)"
   ]
  },
  {
   "cell_type": "code",
   "execution_count": 22,
   "metadata": {},
   "outputs": [
    {
     "data": {
      "text/plain": [
       "'Dress Restoration'"
      ]
     },
     "execution_count": 22,
     "metadata": {},
     "output_type": "execute_result"
    }
   ],
   "source": [
    "recommendation(users_article_processed, processed_articles)"
   ]
  },
  {
   "cell_type": "code",
   "execution_count": 23,
   "metadata": {},
   "outputs": [
    {
     "data": {
      "text/plain": [
       "'Dress Restoration'"
      ]
     },
     "execution_count": 23,
     "metadata": {},
     "output_type": "execute_result"
    }
   ],
   "source": [
    "recommendation(users_article, news_articles)"
   ]
  },
  {
   "cell_type": "markdown",
   "metadata": {},
   "source": [
    "#### Evaluating all recommendations with and without preprocessing the article text:"
   ]
  },
  {
   "cell_type": "code",
   "execution_count": 24,
   "metadata": {},
   "outputs": [
    {
     "name": "stdout",
     "output_type": "stream",
     "text": [
      "Original article: Ticklish Rats\n",
      "Unprocessed: Sologamy\n",
      "Processed: Penguin Surgery\n",
      "\n",
      "Original article: Clever Elephants\n",
      "Unprocessed: Penguin Surgery\n",
      "Processed: Penguin Surgery\n",
      "\n",
      "Original article: ChatGPT Crochet\n",
      "Unprocessed: Clothing Waste\n",
      "Processed: Clever Elephants\n",
      "\n",
      "Original article: Sologamy\n",
      "Unprocessed: Dress Restoration\n",
      "Processed: Dress Restoration\n",
      "\n",
      "Original article: Imaging Improvements\n",
      "Unprocessed: Clothing Waste\n",
      "Processed: Penguin Surgery\n",
      "\n",
      "Original article: Clothing Waste\n",
      "Unprocessed: Penguin Surgery\n",
      "Processed: Penguin Surgery\n",
      "\n",
      "Original article: Viral Novel\n",
      "Unprocessed: Dress Restoration\n",
      "Processed: Dress Restoration\n",
      "\n",
      "Original article: Dress Restoration\n",
      "Unprocessed: Sologamy\n",
      "Processed: Viral Novel\n",
      "\n",
      "Original article: Penguin Surgery\n",
      "Unprocessed: Clever Elephants\n",
      "Processed: Imaging Improvements\n",
      "\n"
     ]
    }
   ],
   "source": [
    "for key in news_articles.keys():\n",
    "    users_article = news_articles.get(key)\n",
    "    users_article_processed = preprocess(users_article)\n",
    "    print(f\"Original article: {key}\")\n",
    "    print(f\"Unprocessed: {recommendation(users_article, news_articles)}\")\n",
    "    print(f\"Processed: {recommendation(users_article_processed, processed_articles)}\\n\")"
   ]
  },
  {
   "cell_type": "markdown",
   "metadata": {},
   "source": [
    "Four of the nine produce the same result regardless of pre processing. For the remaining five:\n",
    "\n",
    "- Ticklish Rats - Sologamy is the more surprising result, as it is a human interest story featuring love and marriage. Penguin Surgery would seem to be the better match, as it also involves animals and science.\n",
    "More obvious match: processed.\n",
    "\n",
    "- ChatGPT Crochet - It is not entirely clear how either of these relate to the original article. Clothing is also fabric, so this seems the more logical suggestion.\n",
    "More obvious match: unprocessed\n",
    "\n",
    "- Imaging Improvements - The article on surgery makes more sense, as it is also an article relating to medicine.\n",
    "More obvious match: processed\n",
    "\n",
    "- Dress Restoration -The Sologamy article is about weddings, Dress Restoration wedding dresses, so this seems the better match.\n",
    "More obvious match: unprocessed\n",
    "\n",
    "- Penguin Surgery - Both of these matches have merit, one matches the animal theme, the other the medical theme.\n",
    "More obvious match: draw\n",
    "\n",
    "Although the unprocessed and processed texts give different results, neither is clearly better than the other for the sample data. To improve the recommendations, could try using the larger en_core_web_lg model.\n"
   ]
  }
 ],
 "metadata": {
  "kernelspec": {
   "display_name": "newenv",
   "language": "python",
   "name": "python3"
  },
  "language_info": {
   "codemirror_mode": {
    "name": "ipython",
    "version": 3
   },
   "file_extension": ".py",
   "mimetype": "text/x-python",
   "name": "python",
   "nbconvert_exporter": "python",
   "pygments_lexer": "ipython3",
   "version": "3.11.6"
  }
 },
 "nbformat": 4,
 "nbformat_minor": 2
}
